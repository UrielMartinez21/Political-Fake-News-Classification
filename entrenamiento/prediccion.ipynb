{
 "cells": [
  {
   "cell_type": "markdown",
   "metadata": {},
   "source": [
    "## Bibliotecas"
   ]
  },
  {
   "cell_type": "code",
   "execution_count": 1,
   "metadata": {},
   "outputs": [],
   "source": [
    "import torch\n",
    "from transformers import RobertaTokenizer, RobertaForSequenceClassification\n",
    "from torch.utils.data import DataLoader, TensorDataset\n",
    "import pandas as pd\n",
    "from sklearn.metrics import accuracy_score, f1_score, recall_score, matthews_corrcoef\n",
    "import random\n",
    "import numpy as np"
   ]
  },
  {
   "cell_type": "markdown",
   "metadata": {},
   "source": [
    "## Preparar entorno"
   ]
  },
  {
   "cell_type": "code",
   "execution_count": 4,
   "metadata": {},
   "outputs": [],
   "source": [
    "# Configurar\n",
    "seed = 26\n",
    "random.seed(seed)\n",
    "np.random.seed(seed)\n",
    "torch.manual_seed(seed)\n",
    "torch.cuda.manual_seed_all(seed)"
   ]
  },
  {
   "cell_type": "markdown",
   "metadata": {},
   "source": [
    "## Cargar modelo"
   ]
  },
  {
   "cell_type": "code",
   "execution_count": 2,
   "metadata": {},
   "outputs": [],
   "source": [
    "# Rutas para el model entrenado y el tokenizador\n",
    "model_path = \"../modelo/\"\n",
    "tokenizer_path = \"../modelo/\""
   ]
  },
  {
   "cell_type": "code",
   "execution_count": 3,
   "metadata": {},
   "outputs": [],
   "source": [
    "# Cargar modelo entrenado y tokenizador\n",
    "model = RobertaForSequenceClassification.from_pretrained(model_path, num_labels=2)\n",
    "tokenizer = RobertaTokenizer.from_pretrained(tokenizer_path)"
   ]
  },
  {
   "cell_type": "code",
   "execution_count": 5,
   "metadata": {},
   "outputs": [],
   "source": [
    "# Configuracion de batch\n",
    "batch_size = 16"
   ]
  },
  {
   "cell_type": "code",
   "execution_count": 6,
   "metadata": {},
   "outputs": [],
   "source": [
    "# Use GPU if available, otherwise use CPU\n",
    "device = torch.device(\"cuda\" if torch.cuda.is_available() else \"cpu\")\n",
    "model = model.to(device)"
   ]
  },
  {
   "cell_type": "markdown",
   "metadata": {},
   "source": [
    "## Prediccion"
   ]
  },
  {
   "cell_type": "code",
   "execution_count": 12,
   "metadata": {},
   "outputs": [
    {
     "name": "stdout",
     "output_type": "stream",
     "text": [
      "[+]Predicción: Noticia falsa\n"
     ]
    }
   ],
   "source": [
    "# Ejemplo de datos para predecir\n",
    "# nuevo_titulo = \"Moreno intenta apaciguar el flanco sanitario mientras enreda con la fecha de las elecciones\"\n",
    "# nueva_descripcion = \"El presidente abre la puerta a unos comicios en junio que no sean en domingo.\"\n",
    "# nueva_fecha = \"19/04/2022\"\n",
    "nuevo_titulo = \"Las promesas incumplidas de Pablo Echenique en sanidad, educación y vivienda\"\n",
    "nueva_descripcion = \"Este lunes y martes la Asamblea de Madrid acogerá el debate del estado de la región. El último se celebró hace dos años, el 14 de septiembre de 2020.\"\n",
    "nueva_fecha = \"12/09/2022\"\n",
    "\n",
    "# Tokeniza el nuevo ejemplo\n",
    "nuevos_encodings = tokenizer(\n",
    "    nuevo_titulo,\n",
    "    nueva_descripcion,\n",
    "    nueva_fecha,\n",
    "    padding=\"max_length\",\n",
    "    truncation='only_second',\n",
    "    max_length=128,\n",
    "    return_tensors=\"pt\"\n",
    ")\n",
    "\n",
    "# Obtiene los input_ids y attention_masks del nuevo ejemplo\n",
    "nuevos_input_ids = nuevos_encodings[\"input_ids\"]\n",
    "nuevas_attention_masks = nuevos_encodings[\"attention_mask\"]\n",
    "\n",
    "# Mueve los datos a la GPU si está disponible\n",
    "nuevos_input_ids = nuevos_input_ids.to(device)\n",
    "nuevas_attention_masks = nuevas_attention_masks.to(device)\n",
    "\n",
    "# Realiza la predicción\n",
    "with torch.no_grad():\n",
    "    logits = model(nuevos_input_ids, attention_mask=nuevas_attention_masks).logits\n",
    "    _, predicted_label = torch.max(logits, 1)\n",
    "\n",
    "# Convierte el resultado a una etiqueta legible\n",
    "etiqueta_predicha = \"Noticia falsa\" if predicted_label.item() == 0 else \"Noticia verdadera\"\n",
    "\n",
    "# Imprime la etiqueta predicha\n",
    "print(f\"[+]Predicción: {etiqueta_predicha}\")\n"
   ]
  }
 ],
 "metadata": {
  "kernelspec": {
   "display_name": "Python 3",
   "language": "python",
   "name": "python3"
  },
  "language_info": {
   "codemirror_mode": {
    "name": "ipython",
    "version": 3
   },
   "file_extension": ".py",
   "mimetype": "text/x-python",
   "name": "python",
   "nbconvert_exporter": "python",
   "pygments_lexer": "ipython3",
   "version": "3.11.3"
  }
 },
 "nbformat": 4,
 "nbformat_minor": 2
}
