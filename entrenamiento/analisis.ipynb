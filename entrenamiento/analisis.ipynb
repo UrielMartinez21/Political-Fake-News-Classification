{
 "cells": [
  {
   "cell_type": "markdown",
   "metadata": {},
   "source": [
    "## Bibliotecas"
   ]
  },
  {
   "cell_type": "code",
   "execution_count": 1,
   "metadata": {},
   "outputs": [],
   "source": [
    "import pandas as pd\n",
    "import matplotlib.pyplot as plt\n",
    "import seaborn as sns"
   ]
  },
  {
   "cell_type": "markdown",
   "metadata": {},
   "source": [
    "## Lectura de archivo"
   ]
  },
  {
   "cell_type": "code",
   "execution_count": 2,
   "metadata": {},
   "outputs": [
    {
     "data": {
      "text/html": [
       "<div>\n",
       "<style scoped>\n",
       "    .dataframe tbody tr th:only-of-type {\n",
       "        vertical-align: middle;\n",
       "    }\n",
       "\n",
       "    .dataframe tbody tr th {\n",
       "        vertical-align: top;\n",
       "    }\n",
       "\n",
       "    .dataframe thead th {\n",
       "        text-align: right;\n",
       "    }\n",
       "</style>\n",
       "<table border=\"1\" class=\"dataframe\">\n",
       "  <thead>\n",
       "    <tr style=\"text-align: right;\">\n",
       "      <th></th>\n",
       "      <th>ID</th>\n",
       "      <th>Label</th>\n",
       "      <th>Titulo</th>\n",
       "      <th>Descripcion</th>\n",
       "      <th>Fecha</th>\n",
       "    </tr>\n",
       "  </thead>\n",
       "  <tbody>\n",
       "    <tr>\n",
       "      <th>0</th>\n",
       "      <td>ID</td>\n",
       "      <td>1</td>\n",
       "      <td>Moreno intenta apaciguar el flanco sanitario m...</td>\n",
       "      <td>El presidente abre la puerta a unos comicios e...</td>\n",
       "      <td>19/04/2022</td>\n",
       "    </tr>\n",
       "    <tr>\n",
       "      <th>1</th>\n",
       "      <td>ID</td>\n",
       "      <td>1</td>\n",
       "      <td>La Abogacía del Estado se retira como acusació...</td>\n",
       "      <td>En un escrito, la abogada del Estado Rosa Marí...</td>\n",
       "      <td>17/09/2021</td>\n",
       "    </tr>\n",
       "    <tr>\n",
       "      <th>2</th>\n",
       "      <td>ID</td>\n",
       "      <td>0</td>\n",
       "      <td>Las promesas incumplidas de Pablo Echenique en...</td>\n",
       "      <td>Este lunes y martes la Asamblea de Madrid acog...</td>\n",
       "      <td>12/09/2022</td>\n",
       "    </tr>\n",
       "    <tr>\n",
       "      <th>3</th>\n",
       "      <td>ID</td>\n",
       "      <td>1</td>\n",
       "      <td>Sánchez defiende 'resolver el problema' de la ...</td>\n",
       "      <td>Resulta evidente que la ley ha tenido algunos ...</td>\n",
       "      <td>07/02/2023</td>\n",
       "    </tr>\n",
       "    <tr>\n",
       "      <th>4</th>\n",
       "      <td>ID</td>\n",
       "      <td>1</td>\n",
       "      <td>Ian Gibson cierra la lista electoral de la con...</td>\n",
       "      <td>El hispanista, que ya ocupó un puesto simbólic...</td>\n",
       "      <td>12/04/2023</td>\n",
       "    </tr>\n",
       "  </tbody>\n",
       "</table>\n",
       "</div>"
      ],
      "text/plain": [
       "   ID  Label                                             Titulo   \n",
       "0  ID      1  Moreno intenta apaciguar el flanco sanitario m...  \\\n",
       "1  ID      1  La Abogacía del Estado se retira como acusació...   \n",
       "2  ID      0  Las promesas incumplidas de Pablo Echenique en...   \n",
       "3  ID      1  Sánchez defiende 'resolver el problema' de la ...   \n",
       "4  ID      1  Ian Gibson cierra la lista electoral de la con...   \n",
       "\n",
       "                                         Descripcion       Fecha  \n",
       "0  El presidente abre la puerta a unos comicios e...  19/04/2022  \n",
       "1  En un escrito, la abogada del Estado Rosa Marí...  17/09/2021  \n",
       "2  Este lunes y martes la Asamblea de Madrid acog...  12/09/2022  \n",
       "3  Resulta evidente que la ley ha tenido algunos ...  07/02/2023  \n",
       "4  El hispanista, que ya ocupó un puesto simbólic...  12/04/2023  "
      ]
     },
     "execution_count": 2,
     "metadata": {},
     "output_type": "execute_result"
    }
   ],
   "source": [
    "corpus = pd.read_csv('../dataset/D57000_complete.csv', delimiter=';')\n",
    "\n",
    "corpus.head()"
   ]
  },
  {
   "cell_type": "markdown",
   "metadata": {},
   "source": [
    "## Analisis de información"
   ]
  },
  {
   "cell_type": "code",
   "execution_count": 3,
   "metadata": {},
   "outputs": [
    {
     "name": "stdout",
     "output_type": "stream",
     "text": [
      "<class 'pandas.core.frame.DataFrame'>\n",
      "RangeIndex: 57231 entries, 0 to 57230\n",
      "Data columns (total 5 columns):\n",
      " #   Column       Non-Null Count  Dtype \n",
      "---  ------       --------------  ----- \n",
      " 0   ID           57231 non-null  object\n",
      " 1   Label        57231 non-null  int64 \n",
      " 2   Titulo       57231 non-null  object\n",
      " 3   Descripcion  57231 non-null  object\n",
      " 4   Fecha        57231 non-null  object\n",
      "dtypes: int64(1), object(4)\n",
      "memory usage: 2.2+ MB\n",
      "--------------------------------------------------------------------------------\n",
      "[+]Cantidad de registros: 57231\n",
      "--------------------------------------------------------------------------------\n",
      "Label\n",
      "1    33351\n",
      "0    23880\n",
      "Name: count, dtype: int64\n"
     ]
    }
   ],
   "source": [
    "# --> Informacion del corpus\n",
    "corpus.info()\n",
    "print(\"-\"*80)\n",
    "\n",
    "# --> Cantidad de registros\n",
    "print(f\"[+]Cantidad de registros: {len(corpus)}\")\n",
    "print(\"-\"*80)\n",
    "\n",
    "# --> Cantidad de registros por clase\n",
    "print(corpus['Label'].value_counts())\n"
   ]
  },
  {
   "cell_type": "code",
   "execution_count": 6,
   "metadata": {},
   "outputs": [
    {
     "name": "stdout",
     "output_type": "stream",
     "text": [
      "[+]Valor de IR: 1.40\n",
      "[+]No hay desbalance de clases\n"
     ]
    }
   ],
   "source": [
    "# --> Revisar si hay desbalance de clases en el corpus\n",
    "IR = corpus['Label'].value_counts()[1] / corpus['Label'].value_counts()[0]\n",
    "\n",
    "print(f\"[+]Valor de IR: {IR:.2f}\")\n",
    "print(\"[+]Desbalance de clases\" if IR > 1.5 else \"[+]No hay desbalance de clases\")\n"
   ]
  },
  {
   "cell_type": "markdown",
   "metadata": {},
   "source": [
    "## Graficar información"
   ]
  },
  {
   "cell_type": "code",
   "execution_count": 13,
   "metadata": {},
   "outputs": [
    {
     "data": {
      "image/png": "[encoded data removed]",
      "text/plain": [
       "<Figure size 1000x500 with 1 Axes>"
      ]
     },
     "metadata": {},
     "output_type": "display_data"
    }
   ],
   "source": [
    "plt.figure(figsize=(10, 5))\n",
    "sns.countplot(x='Label', data=corpus)\n",
    "plt.xticks([0, 1], ['Falsas', 'Verdaderas'])\n",
    "\n",
    "# --> Cantidad de registros por clase dentro de la grafica de barras\n",
    "for i in range(2):\n",
    "    count = corpus['Label'].value_counts()[i]\n",
    "    plt.text(i, count+100, count, ha='center')\n",
    "\n",
    "plt.show()"
   ]
  }
 ],
 "metadata": {
  "kernelspec": {
   "display_name": "Python 3",
   "language": "python",
   "name": "python3"
  },
  "language_info": {
   "codemirror_mode": {
    "name": "ipython",
    "version": 3
   },
   "file_extension": ".py",
   "mimetype": "text/x-python",
   "name": "python",
   "nbconvert_exporter": "python",
   "pygments_lexer": "ipython3",
   "version": "3.11.3"
  }
 },
 "nbformat": 4,
 "nbformat_minor": 2
}
